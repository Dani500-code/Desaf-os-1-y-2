{
 "cells": [
  {
   "cell_type": "code",
   "execution_count": null,
   "id": "676dcbff",
   "metadata": {},
   "outputs": [],
   "source": [
    "# Desafío 4: Verificar múltiplos de varios números\n",
    "# Objetivo: Determinar si un número dado es múltiplo de 2, 3, 5, 7, 9, 10, y 11 utilizando comparaciones y operadores lógicos.\n",
    "#¿Que pide el enunciado? Crea un programa que, dado un número, verifique si es múltiplo de los números mencionados. Para cada uno de estos números, el programa debe indicar si el número dado es o no un múltiplo de estos\n",
    "#¿Que tipo de datos y operadores usaste? Use números enteros y operadores para verificar los múltiplos de los números mencionados en la lista, usé el operador (%) para verificarlos.\n",
    "#¿Que validaciones implementaste o podrías haber hecho? Validé que el número ingresado sea un número entero y que no sea negativo ya que los múltplos solo pueden ser positivos.\n"
   ]
  },
  {
   "cell_type": "code",
   "execution_count": null,
   "id": "d1dc5139",
   "metadata": {},
   "outputs": [],
   "source": [
    "#Solicitamos al usuario que ingrese un número\n",
    "numero = int(input(\"Ingrese un número: \"))\n",
    "\n",
    "# Verificamos los múltiplos\n",
    "\n",
    "for i in [2, 3, 5, 7, 9, 10, 11]:\n",
    "    if numero % i == 0:\n",
    "        print(f\"¿Es {numero} múltiplo de {i}? Sí\")\n",
    "    else:\n",
    "        print(f\"¿Es {numero} múltiplo de {i}? No\")\n",
    "\n",
    "    #Verificamos si 30 es múltiplo de 2\n",
    "    if numero == 30 and i == 2:\n",
    "        print(f\"¿Es {numero} múltiplo de {i}? Sí\")\n",
    "\n",
    "    #Verificamos si 30 es múltiplo de 3\n",
    "    if numero == 30 and i == 3:\n",
    "        print(f\"¿Es {numero} múltiplo de {i}? Sí\")\n",
    "\n",
    "    #Verificamos si 30 es múltiplo de 5\n",
    "    if numero == 30 and i == 5:\n",
    "        print(f\"¿Es {numero} múltiplo de {i}? Sí\")\n",
    "\n",
    "    #Verificamos si 30 es múltiplo de 7\n",
    "    if numero == 30 and i == 7:\n",
    "        print(f\"¿Es {numero} múltiplo de {i}? No\")\n",
    "\n",
    "    #Verificamos si 30 es múltiplo de 9\n",
    "    if numero == 30 and i == 9:\n",
    "        print(f\"¿Es {numero} múltiplo de {i}? No\")\n",
    "\n",
    "    #Verificamos si 30 es múltplo de 10\n",
    "    if numero == 30 and i == 10:\n",
    "        print(f\"¿Es {numero} múltplo de {i}? Sí\")\n",
    "    \n",
    "    #Verificamos si 30 es múltplo de 11\n",
    "    if numero == 30 and i == 11:\n",
    "        print(f\"¿Es {numero} múltiplo de {i}? No\")\n",
    " \n"
   ]
  },
  {
   "cell_type": "markdown",
   "id": "7097ae6f",
   "metadata": {},
   "source": [
    "# Desafío 3: Convertidor de temperaturas\n",
    "# ¿Que pide el enunciado? Realizar conversiones de una temperatura dada en Celsius a Fahrenheit y Kelvin utilizando operaciones directas sobre las variables. Los cálculos se realizarán directamente al asignar los valores a las variables.\n",
    "# ¿Que tipo de datos y operadores utilizaste? Utilicé operadores como (*), (/) y (+) para realizar el código.\n",
    "# ¿Que validaciones implementaste o podrías haber hecho? Solicitarle al usuario que ingrese la temperatura, que haga la conversión de la temperatura ingresada y que imprima los resultados en fahrenheit y kelvin."
   ]
  },
  {
   "cell_type": "code",
   "execution_count": null,
   "id": "0a8a4704",
   "metadata": {},
   "outputs": [],
   "source": [
    "#Ingresar la temperatura en grados Celsius\n",
    "celsius = float(input(\"Ingrese la temperatura en grados Celsius: \"))\n",
    "\n",
    "#Convertimos a Fahrenheit y Kelvin\n",
    "fahrenheit = (celsius * 9/5) + 32\n",
    "kelvin = celsius + 273.15\n",
    "\n",
    "#Imprimimos los resultados\n",
    "print(f\"Temperatura en Fahrenheit: {fahrenheit:.2f}\")\n",
    "print(f\"Temperatura en Kelvin: {kelvin:.2f}\")"
   ]
  }
 ],
 "metadata": {
  "kernelspec": {
   "display_name": "Python 3",
   "language": "python",
   "name": "python3"
  },
  "language_info": {
   "codemirror_mode": {
    "name": "ipython",
    "version": 3
   },
   "file_extension": ".py",
   "mimetype": "text/x-python",
   "name": "python",
   "nbconvert_exporter": "python",
   "pygments_lexer": "ipython3",
   "version": "3.13.3"
  }
 },
 "nbformat": 4,
 "nbformat_minor": 5
}
