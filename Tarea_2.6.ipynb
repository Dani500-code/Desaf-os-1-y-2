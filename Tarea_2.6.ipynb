{
 "cells": [
  {
   "cell_type": "code",
   "execution_count": null,
   "id": "0c45c1bb",
   "metadata": {},
   "outputs": [],
   "source": [
    "#Lista de estudiantes y calificaciones\n",
    "estudiantes = [ {\"nombre\": \"Lucas\", \"calificacion\": 8},\n",
    "    {\"nombre\": \"Agustin\",\"calificacion\": 8},\n",
    "    {\"nombre\": \"Antonhy\",\"calificacion\": 12},\n",
    "    {\"nombre\": \"Juan\",\"calificacion\": 8},\n",
    "    {\"nombre\": \"Pedro\",\"calificacion\": 5},\n",
    "    {\"nombre\": \"Ana\",\"calificacion\": 5},\n",
    "    {\"nombre\": \"Maria\", \"calificacion\": 12},\n",
    "    {\"nombre\": \"Carlos\",\"calificacion\": 8},\n",
    "    {\"nombre\": \"Paula\",\"calificacion\": 2},\n",
    "    {\"nombre\": \"Maria\",\"calificacion\": 11} #Segundo nombre Maria\n",
    "    ] \n",
    "\n",
    "#Listo los contadores\n",
    "aprobados = 0\n",
    "desaprobados = 0\n",
    "\n",
    "#Vemos la lista de estudiantes y notas, aplicamos los condicionales\n",
    "for estudiante in estudiantes:\n",
    "    if estudiante[\"calificacion\"] >= 7:\n",
    "        aprobados += 1\n",
    "    else:\n",
    "        desaprobados += 1\n",
    "\n",
    "#Este código muestra el resultado de los estudiantes aprobados y desaprobados\n",
    "print(f\"Estudiantes aprobados: {aprobados}\")\n",
    "print(f\"Estudiantes desaprobados: {desaprobados}\")  \n",
    " \n",
    "#Lista de calificaciones\n",
    "calificaciones = [8, 8, 12, 8, 5, 5, 12, 8, 2, 11]\n",
    "\n",
    "#Calculamos el promedio\n",
    "promedio = sum(calificaciones) / len (calificaciones)\n",
    "\n",
    "#Resultado del promedio\n",
    "print(f\"El promedio de las calificaciones es: {promedio:}\")\n",
    "\n",
    "\n",
    "### Enlace al archivo generado\n",
    "\n",
    "[Ver archivo online](https://github.com/Dani500-code/Desaf-os-1-y-2/blob/main/Tarea%202.6%20Desaf%C3%ADos%201%20y%202.6) \n"
   ]
  }
 ],
 "metadata": {
  "language_info": {
   "name": "python"
  }
 },
 "nbformat": 4,
 "nbformat_minor": 5
}
